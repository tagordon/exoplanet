{
 "cells": [
  {
   "cell_type": "code",
   "execution_count": 1,
   "metadata": {},
   "outputs": [],
   "source": [
    "import sys\n",
    "sys.path.append('../mwtransits')\n",
    "import mcmc\n",
    "import pymc3 as pm\n",
    "import theano.tensor as tt\n",
    "from exoplanet.gp import terms, GP\n",
    "import numpy as np\n",
    "import utils\n",
    "import exoplanet as xo\n",
    "import matplotlib.pyplot as pl\n",
    "import corner\n",
    "%matplotlib inline\n",
    "\n",
    "red = '#FE4365'\n",
    "blue = '#00A9FF'\n",
    "yellow = '#ECA25C'\n",
    "green = '#3F9778'\n",
    "darkblue = '#005D7F'\n",
    "\n",
    "pl.rc('xtick', labelsize=20)\n",
    "pl.rc('ytick', labelsize=20)\n",
    "pl.rc('axes', labelsize=25)\n",
    "pl.rc('axes', titlesize=30)\n",
    "pl.rc('legend', fontsize=20)\n",
    "pl.rc('lines', linewidth=4)\n",
    "\n",
    "t = np.linspace(-5, 5, 3000)\n",
    "tparams = [0.0, 0.1, 0.5, 0.05]  # t0, r, d, tin\n",
    "\n",
    "alpha = -13 # total variance \n",
    "x = np.linspace(-3, 3, 20)\n",
    "logr = np.log(10 ** x)\n",
    "logsig = 0.5 * (alpha - np.log(1 + np.exp(2*logr)))\n",
    "logs0 = logr + logsig\n",
    "logq = np.log(1/np.sqrt(2))\n",
    "diag = np.exp(2*logsig)\n",
    "a = [1, 2]\n",
    "\n",
    "w0T = 1.0\n",
    "logw0 = np.log(w0T) - np.log(tparams[2])\n",
    "logs0 = 2 * logs0  - logw0\n",
    "\n",
    "unc1d = np.zeros((4, len(logr)))\n",
    "unc2d = np.zeros((4, len(logr)))"
   ]
  },
  {
   "cell_type": "code",
   "execution_count": 2,
   "metadata": {},
   "outputs": [],
   "source": [
    "y2d, y1d = mcmc.make_data(t, logs0[-1] + 2*np.log(np.mean(a)), logw0, \n",
    "                              logq, logsig[-1], \n",
    "                              tparams[0], tparams[1], \n",
    "                              tparams[2], tparams[3], a[1])"
   ]
  },
  {
   "cell_type": "code",
   "execution_count": 8,
   "metadata": {},
   "outputs": [],
   "source": [
    "transit = utils.theano_transit(t, *tparams)\n",
    "kernel = xo.gp.terms.SHOTerm(\n",
    "            log_S0 = logs0[-1],\n",
    "            log_w0 = logw0,\n",
    "            log_Q=logq\n",
    "        )\n",
    "diag = np.exp(2*logsig[-1])*tt.ones(len(t))\n",
    "#diag.eval()\n",
    "gp = GP(kernel, t, diag, J=2)"
   ]
  },
  {
   "cell_type": "code",
   "execution_count": null,
   "metadata": {},
   "outputs": [],
   "source": [
    "t = np.linspace(0, 10, 1000)\n",
    "term = xo.gp.terms.SHOTerm(log_S0 = 0, log_w0 = 0, log_Q = -np.log(np.sqrt(2)))\n",
    "\n",
    "q = np.array([1, 2, 3])\n",
    "Q = q[:, None]*q[None, :]\n",
    "\n",
    "diag = 0.001*tt.ones(len(t))\n",
    "\n",
    "kernel = xo.gp.terms.KroneckerTerm(term, Q)"
   ]
  },
  {
   "cell_type": "code",
   "execution_count": null,
   "metadata": {},
   "outputs": [],
   "source": [
    "gp1 = xo.gp.GP(x=t, kernel=kernel, diag=diag, J=6)\n",
    "#gp2 = xo.gp.GP(x=t, kernel=term, diag=diag, J=6, Q=Q)"
   ]
  },
  {
   "cell_type": "code",
   "execution_count": null,
   "metadata": {},
   "outputs": [],
   "source": [
    "n = np.random.randn(3*len(t), 1)\n",
    "y1 = gp1.dot_l(n).eval()\n",
    "#y2 = gp2.dot_l(n).eval()"
   ]
  },
  {
   "cell_type": "code",
   "execution_count": null,
   "metadata": {},
   "outputs": [],
   "source": [
    "#print(np.max(y2 - y1))\n",
    "#print(gp2.log_likelihood(y2).eval() - gp1.log_likelihood(y2).eval())"
   ]
  },
  {
   "cell_type": "code",
   "execution_count": null,
   "metadata": {},
   "outputs": [],
   "source": [
    "with pm.Model() as model:\n",
    "    logS0 = pm.Uniform(\"logS0\", lower=-50.0, upper=50.0, testval=0)\n",
    "    logw0 = pm.Uniform(\"logw0\", lower=-50.0, upper=50.0, testval=0)\n",
    "    logQ = pm.Uniform(\"logQ\", lower=-50.0, upper=50.0, testval=-np.log(np.sqrt(2)))\n",
    "    logdiag = pm.Uniform(\"logdiag\", lower=-50.0, upper=50.0, testval=np.log(0.01))\n",
    "    a = pm.Uniform(\"a\", lower=1.0, upper=10.0, testval=2.0)\n",
    "    b = pm.Uniform(\"b\", lower=1.0, upper=10.0, testval=5.0)\n",
    "    \n",
    "    term = xo.gp.terms.SHOTerm(\n",
    "            log_S0 = logS0,\n",
    "            log_w0 = logw0,\n",
    "            log_Q = logQ\n",
    "        )\n",
    "    \n",
    "    q = tt.stack(1, a, b)\n",
    "    Q = q[:, None]*q[None, :]\n",
    "    diag = np.exp(logdiag)*tt.ones((3,len(t)))\n",
    "    gp = xo.gp.GP(x=t, kernel=term, diag=diag, J=6, Q=Q)\n",
    "    pm.Potential(\"loglike\", gp.log_likelihood(y1.T))\n",
    "    map_soln = xo.optimize(start=model.test_point, verbose=True)\n",
    "map_soln"
   ]
  },
  {
   "cell_type": "code",
   "execution_count": null,
   "metadata": {},
   "outputs": [],
   "source": [
    "with pm.Model() as model:\n",
    "    logS0 = pm.Uniform(\"logS0\", lower=-50.0, upper=50.0, testval=0)\n",
    "    logw0 = pm.Uniform(\"logw0\", lower=-50.0, upper=50.0, testval=0)\n",
    "    logQ = pm.Uniform(\"logQ\", lower=-50.0, upper=50.0, testval=-np.log(np.sqrt(2)))\n",
    "    logdiag = pm.Uniform(\"logdiag\", lower=-50.0, upper=50.0, testval=np.log(0.01))\n",
    "    a = pm.Uniform(\"a\", lower=1.0, upper=10.0, testval=2.0)\n",
    "    b = pm.Uniform(\"b\", lower=1.0, upper=10.0, testval=3.0)\n",
    "    \n",
    "    term = xo.gp.terms.SHOTerm(\n",
    "            log_S0 = logS0,\n",
    "            log_w0 = logw0,\n",
    "            log_Q=logQ\n",
    "        )\n",
    "    \n",
    "    q = tt.stack(1, a, b)\n",
    "    Q = q[:, None]*q[None, :]\n",
    "    diag = np.exp(logdiag)*tt.ones((3,len(t)))\n",
    "    kern = xo.gp.terms.KroneckerTerm(term, Q)\n",
    "    gp = xo.gp.GP(x=t, kernel=kern, diag=diag, J=6)\n",
    "    pm.Potential(\"loglike\", gp.log_likelihood(y1.T))\n",
    "    map_soln = xo.optimize(start=model.test_point, verbose=True)\n",
    "map_soln"
   ]
  },
  {
   "cell_type": "code",
   "execution_count": null,
   "metadata": {},
   "outputs": [],
   "source": []
  },
  {
   "cell_type": "code",
   "execution_count": null,
   "metadata": {},
   "outputs": [],
   "source": []
  }
 ],
 "metadata": {
  "kernelspec": {
   "display_name": "Python 3",
   "language": "python",
   "name": "python3"
  },
  "language_info": {
   "codemirror_mode": {
    "name": "ipython",
    "version": 3
   },
   "file_extension": ".py",
   "mimetype": "text/x-python",
   "name": "python",
   "nbconvert_exporter": "python",
   "pygments_lexer": "ipython3",
   "version": "3.7.6"
  }
 },
 "nbformat": 4,
 "nbformat_minor": 2
}
